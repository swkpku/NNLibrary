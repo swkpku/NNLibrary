{
 "cells": [
  {
   "cell_type": "code",
   "execution_count": 1,
   "metadata": {
    "collapsed": true
   },
   "outputs": [],
   "source": [
    "from data_utils import get_CIFAR10_data\n",
    "from NNLibrary.fc_net import TwoLayerNet\n",
    "from NNLibrary.solver import Solver\n",
    "\n",
    "%load_ext autoreload\n",
    "%autoreload 2"
   ]
  },
  {
   "cell_type": "markdown",
   "metadata": {},
   "source": [
    "run datasets/get_datasets.sh to get CIFAR-10 dataset"
   ]
  },
  {
   "cell_type": "code",
   "execution_count": null,
   "metadata": {},
   "outputs": [
    {
     "name": "stdout",
     "output_type": "stream",
     "text": [
      "X_train:  (49000, 3, 32, 32)\n",
      "y_train:  (49000,)\n",
      "X_val:  (1000, 3, 32, 32)\n",
      "y_val:  (1000,)\n",
      "X_test:  (1000, 3, 32, 32)\n",
      "y_test:  (1000,)\n"
     ]
    }
   ],
   "source": [
    "data = get_CIFAR10_data()\n",
    "for k, v in list(data.items()):\n",
    "    print('%s: ' % k, v.shape)"
   ]
  },
  {
   "cell_type": "code",
   "execution_count": null,
   "metadata": {},
   "outputs": [
    {
     "name": "stdout",
     "output_type": "stream",
     "text": [
      "(Iteration 1 / 4900) loss: 2.313521\n",
      "(Epoch 0 / 10) train acc: 0.130000; val_acc: 0.152000\n",
      "(Iteration 101 / 4900) loss: 1.780103\n",
      "(Iteration 201 / 4900) loss: 1.654258\n",
      "(Iteration 301 / 4900) loss: 1.605437\n",
      "(Iteration 401 / 4900) loss: 1.750439\n",
      "(Epoch 1 / 10) train acc: 0.433000; val_acc: 0.432000\n",
      "(Iteration 501 / 4900) loss: 1.317950\n",
      "(Iteration 601 / 4900) loss: 1.753948\n",
      "(Iteration 701 / 4900) loss: 1.613931\n",
      "(Iteration 801 / 4900) loss: 1.531894\n",
      "(Iteration 901 / 4900) loss: 1.606025\n",
      "(Epoch 2 / 10) train acc: 0.513000; val_acc: 0.466000\n",
      "(Iteration 1001 / 4900) loss: 1.359444\n",
      "(Iteration 1101 / 4900) loss: 1.433965\n",
      "(Iteration 1201 / 4900) loss: 1.312309\n",
      "(Iteration 1301 / 4900) loss: 1.584341\n",
      "(Iteration 1401 / 4900) loss: 1.430532\n",
      "(Epoch 3 / 10) train acc: 0.517000; val_acc: 0.465000\n",
      "(Iteration 1501 / 4900) loss: 1.312085\n",
      "(Iteration 1601 / 4900) loss: 1.368532\n",
      "(Iteration 1701 / 4900) loss: 1.171335\n",
      "(Iteration 1801 / 4900) loss: 1.114537\n",
      "(Iteration 1901 / 4900) loss: 1.362843\n",
      "(Epoch 4 / 10) train acc: 0.566000; val_acc: 0.509000\n",
      "(Iteration 2001 / 4900) loss: 1.193621\n",
      "(Iteration 2101 / 4900) loss: 1.257372\n",
      "(Iteration 2201 / 4900) loss: 1.312572\n",
      "(Iteration 2301 / 4900) loss: 1.297598\n",
      "(Iteration 2401 / 4900) loss: 1.233357\n",
      "(Epoch 5 / 10) train acc: 0.553000; val_acc: 0.503000\n",
      "(Iteration 2501 / 4900) loss: 1.419667\n",
      "(Iteration 2601 / 4900) loss: 1.286980\n",
      "(Iteration 2701 / 4900) loss: 1.354521\n",
      "(Iteration 2801 / 4900) loss: 1.251337\n",
      "(Iteration 2901 / 4900) loss: 1.237122\n",
      "(Epoch 6 / 10) train acc: 0.583000; val_acc: 0.513000\n",
      "(Iteration 3001 / 4900) loss: 1.206062\n",
      "(Iteration 3101 / 4900) loss: 1.269842\n",
      "(Iteration 3201 / 4900) loss: 1.155700\n",
      "(Iteration 3301 / 4900) loss: 1.363373\n",
      "(Iteration 3401 / 4900) loss: 1.350695\n",
      "(Epoch 7 / 10) train acc: 0.596000; val_acc: 0.525000\n",
      "(Iteration 3501 / 4900) loss: 1.332886\n",
      "(Iteration 3601 / 4900) loss: 1.028998\n",
      "(Iteration 3701 / 4900) loss: 1.386405\n",
      "(Iteration 3801 / 4900) loss: 1.174537\n",
      "(Iteration 3901 / 4900) loss: 1.342811\n",
      "(Epoch 8 / 10) train acc: 0.589000; val_acc: 0.537000\n",
      "(Iteration 4001 / 4900) loss: 1.156123\n",
      "(Iteration 4101 / 4900) loss: 1.260222\n"
     ]
    }
   ],
   "source": [
    "model = TwoLayerNet(reg=1e-1)\n",
    "solver = Solver(model, data,\n",
    "    update_rule='sgd',\n",
    "    optim_config={\n",
    "    'learning_rate': 1e-3,\n",
    "    },\n",
    "    lr_decay=0.8,\n",
    "    num_epochs=10, batch_size=100,\n",
    "    print_every=100)\n",
    "solver.train()"
   ]
  },
  {
   "cell_type": "code",
   "execution_count": null,
   "metadata": {
    "collapsed": true
   },
   "outputs": [],
   "source": []
  }
 ],
 "metadata": {
  "kernelspec": {
   "display_name": "Python 3",
   "language": "python",
   "name": "python3"
  },
  "language_info": {
   "codemirror_mode": {
    "name": "ipython",
    "version": 3
   },
   "file_extension": ".py",
   "mimetype": "text/x-python",
   "name": "python",
   "nbconvert_exporter": "python",
   "pygments_lexer": "ipython3",
   "version": "3.6.1"
  }
 },
 "nbformat": 4,
 "nbformat_minor": 2
}
